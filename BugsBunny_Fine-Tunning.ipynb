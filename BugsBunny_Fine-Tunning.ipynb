{
  "nbformat": 4,
  "nbformat_minor": 0,
  "metadata": {
    "colab": {
      "provenance": []
    },
    "kernelspec": {
      "name": "python3",
      "display_name": "Python 3"
    },
    "language_info": {
      "name": "python"
    }
  },
  "cells": [
    {
      "cell_type": "markdown",
      "source": [
        "## **Bugs Bunny *Assitant Open-AI***\n",
        "![bugs.jpg](data:image/jpeg;base64,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)"
      ],
      "metadata": {
        "id": "6P5KrREfFYt9"
      }
    },
    {
      "cell_type": "code",
      "source": [
        "!pip install openai"
      ],
      "metadata": {
        "colab": {
          "base_uri": "https://localhost:8080/"
        },
        "id": "7zuIsWD3x5Af",
        "outputId": "e6a01d21-b6d1-47ae-f97a-142c5b38783c"
      },
      "execution_count": 3,
      "outputs": [
        {
          "output_type": "stream",
          "name": "stdout",
          "text": [
            "Collecting openai\n",
            "  Downloading openai-1.30.5-py3-none-any.whl (320 kB)\n",
            "\u001b[?25l     \u001b[90m━━━━━━━━━━━━━━━━━━━━━━━━━━━━━━━━━━━━━━━━\u001b[0m \u001b[32m0.0/320.7 kB\u001b[0m \u001b[31m?\u001b[0m eta \u001b[36m-:--:--\u001b[0m\r\u001b[2K     \u001b[91m━━━━━━━━━━━━━━━━━━━━━━━━\u001b[0m\u001b[90m╺\u001b[0m\u001b[90m━━━━━━━━━━━━━━━\u001b[0m \u001b[32m194.6/320.7 kB\u001b[0m \u001b[31m5.7 MB/s\u001b[0m eta \u001b[36m0:00:01\u001b[0m\r\u001b[2K     \u001b[90m━━━━━━━━━━━━━━━━━━━━━━━━━━━━━━━━━━━━━━━━\u001b[0m \u001b[32m320.7/320.7 kB\u001b[0m \u001b[31m5.7 MB/s\u001b[0m eta \u001b[36m0:00:00\u001b[0m\n",
            "\u001b[?25hRequirement already satisfied: anyio<5,>=3.5.0 in /usr/local/lib/python3.10/dist-packages (from openai) (3.7.1)\n",
            "Requirement already satisfied: distro<2,>=1.7.0 in /usr/lib/python3/dist-packages (from openai) (1.7.0)\n",
            "Collecting httpx<1,>=0.23.0 (from openai)\n",
            "  Downloading httpx-0.27.0-py3-none-any.whl (75 kB)\n",
            "\u001b[2K     \u001b[90m━━━━━━━━━━━━━━━━━━━━━━━━━━━━━━━━━━━━━━━━\u001b[0m \u001b[32m75.6/75.6 kB\u001b[0m \u001b[31m7.1 MB/s\u001b[0m eta \u001b[36m0:00:00\u001b[0m\n",
            "\u001b[?25hRequirement already satisfied: pydantic<3,>=1.9.0 in /usr/local/lib/python3.10/dist-packages (from openai) (2.7.1)\n",
            "Requirement already satisfied: sniffio in /usr/local/lib/python3.10/dist-packages (from openai) (1.3.1)\n",
            "Requirement already satisfied: tqdm>4 in /usr/local/lib/python3.10/dist-packages (from openai) (4.66.2)\n",
            "Requirement already satisfied: typing-extensions<5,>=4.7 in /usr/local/lib/python3.10/dist-packages (from openai) (4.11.0)\n",
            "Requirement already satisfied: idna>=2.8 in /usr/local/lib/python3.10/dist-packages (from anyio<5,>=3.5.0->openai) (3.7)\n",
            "Requirement already satisfied: exceptiongroup in /usr/local/lib/python3.10/dist-packages (from anyio<5,>=3.5.0->openai) (1.2.1)\n",
            "Requirement already satisfied: certifi in /usr/local/lib/python3.10/dist-packages (from httpx<1,>=0.23.0->openai) (2024.2.2)\n",
            "Collecting httpcore==1.* (from httpx<1,>=0.23.0->openai)\n",
            "  Downloading httpcore-1.0.5-py3-none-any.whl (77 kB)\n",
            "\u001b[2K     \u001b[90m━━━━━━━━━━━━━━━━━━━━━━━━━━━━━━━━━━━━━━━━\u001b[0m \u001b[32m77.9/77.9 kB\u001b[0m \u001b[31m4.9 MB/s\u001b[0m eta \u001b[36m0:00:00\u001b[0m\n",
            "\u001b[?25hCollecting h11<0.15,>=0.13 (from httpcore==1.*->httpx<1,>=0.23.0->openai)\n",
            "  Downloading h11-0.14.0-py3-none-any.whl (58 kB)\n",
            "\u001b[2K     \u001b[90m━━━━━━━━━━━━━━━━━━━━━━━━━━━━━━━━━━━━━━━━\u001b[0m \u001b[32m58.3/58.3 kB\u001b[0m \u001b[31m6.0 MB/s\u001b[0m eta \u001b[36m0:00:00\u001b[0m\n",
            "\u001b[?25hRequirement already satisfied: annotated-types>=0.4.0 in /usr/local/lib/python3.10/dist-packages (from pydantic<3,>=1.9.0->openai) (0.6.0)\n",
            "Requirement already satisfied: pydantic-core==2.18.2 in /usr/local/lib/python3.10/dist-packages (from pydantic<3,>=1.9.0->openai) (2.18.2)\n",
            "Installing collected packages: h11, httpcore, httpx, openai\n",
            "Successfully installed h11-0.14.0 httpcore-1.0.5 httpx-0.27.0 openai-1.30.5\n"
          ]
        }
      ]
    },
    {
      "cell_type": "code",
      "source": [
        "import openai\n",
        "from google.colab import userdata\n",
        "\n",
        "api_key = userdata.get('OPENAI_API_KEY')\n",
        "organization = userdata.get('organization'),\n",
        "project = userdata.get('project'),\n",
        "\n",
        "client = openai.Client(\n",
        "    api_key=api_key,\n",
        "    organization='org-D1MZHz57vI2PtcXohjjbCseh',\n",
        "    project='proj_GsHdGC4vKbgLplfP2XJnkfFs',\n",
        ")"
      ],
      "metadata": {
        "id": "Rr9S24sR0qQ6"
      },
      "execution_count": 7,
      "outputs": []
    },
    {
      "cell_type": "markdown",
      "source": [
        "**Código para comprobar que el archivo esté bien escrito**"
      ],
      "metadata": {
        "id": "J4maOV1J__ts"
      }
    },
    {
      "cell_type": "code",
      "source": [
        "import json\n",
        "import numpy as np\n",
        "from collections import defaultdict"
      ],
      "metadata": {
        "id": "0sh5rgoU7-i7"
      },
      "execution_count": 15,
      "outputs": []
    },
    {
      "cell_type": "code",
      "source": [
        "data_path = \"/content/training_data_bugs.jsonl\"\n",
        "\n",
        "# Load the dataset\n",
        "with open(data_path, 'r', encoding='utf-8') as f:\n",
        "    dataset = [json.loads(line) for line in f]\n",
        "\n",
        "# Initial dataset stats\n",
        "print(\"Num examples:\", len(dataset))\n",
        "print(\"First example:\")\n",
        "for message in dataset[0][\"messages\"]:\n",
        "    print(message)"
      ],
      "metadata": {
        "colab": {
          "base_uri": "https://localhost:8080/"
        },
        "id": "YMvc4Mjd8Goc",
        "outputId": "f6121fcf-e299-4250-8cc5-dc69ccb66007"
      },
      "execution_count": 16,
      "outputs": [
        {
          "output_type": "stream",
          "name": "stdout",
          "text": [
            "Num examples: 10\n",
            "First example:\n",
            "{'role': 'system', 'content': 'You are an assistant who takes things easy and with humor.'}\n",
            "{'role': 'user', 'content': \"l ain't going out like that. We're letting them push us! We must fight back! We must get right in their faces! Well? Are you with me or not?\"}\n",
            "{'role': 'assistant', 'content': \"Finished? Great speech and all. You had them riveted. But didn't you forget something? Your secret stuff!\"}\n"
          ]
        }
      ]
    },
    {
      "cell_type": "code",
      "source": [
        "# Format error checks\n",
        "format_errors = defaultdict(int)\n",
        "\n",
        "for ex in dataset:\n",
        "    if not isinstance(ex, dict):\n",
        "        format_errors[\"data_type\"] += 1\n",
        "        continue\n",
        "\n",
        "    messages = ex.get(\"messages\", None)\n",
        "    if not messages:\n",
        "        format_errors[\"missing_messages_list\"] += 1\n",
        "        continue\n",
        "\n",
        "    for message in messages:\n",
        "        if \"role\" not in message or \"content\" not in message:\n",
        "            format_errors[\"message_missing_key\"] += 1\n",
        "\n",
        "        if any(k not in (\"role\", \"content\", \"name\", \"function_call\", \"weight\") for k in message):\n",
        "            format_errors[\"message_unrecognized_key\"] += 1\n",
        "\n",
        "        if message.get(\"role\", None) not in (\"system\", \"user\", \"assistant\", \"function\"):\n",
        "            format_errors[\"unrecognized_role\"] += 1\n",
        "\n",
        "        content = message.get(\"content\", None)\n",
        "        function_call = message.get(\"function_call\", None)\n",
        "\n",
        "        if (not content and not function_call) or not isinstance(content, str):\n",
        "            format_errors[\"missing_content\"] += 1\n",
        "\n",
        "    if not any(message.get(\"role\", None) == \"assistant\" for message in messages):\n",
        "        format_errors[\"example_missing_assistant_message\"] += 1\n",
        "\n",
        "if format_errors:\n",
        "    print(\"Found errors:\")\n",
        "    for k, v in format_errors.items():\n",
        "        print(f\"{k}: {v}\")\n",
        "else:\n",
        "    print(\"No errors found\")"
      ],
      "metadata": {
        "colab": {
          "base_uri": "https://localhost:8080/"
        },
        "id": "3rHOuu6g8oqm",
        "outputId": "65f4eb55-59c3-4b1e-feab-3a30f89a022f"
      },
      "execution_count": 24,
      "outputs": [
        {
          "output_type": "stream",
          "name": "stdout",
          "text": [
            "No errors found\n"
          ]
        }
      ]
    },
    {
      "cell_type": "code",
      "source": [
        "from google.colab import drive\n",
        "drive.mount('/content/drive')"
      ],
      "metadata": {
        "id": "xRF1y8R85sBp"
      },
      "execution_count": null,
      "outputs": []
    },
    {
      "cell_type": "markdown",
      "source": [
        "**Cargar el archivo y crear el file id**"
      ],
      "metadata": {
        "id": "IbXldUF3AYFS"
      }
    },
    {
      "cell_type": "code",
      "execution_count": 9,
      "metadata": {
        "colab": {
          "base_uri": "https://localhost:8080/"
        },
        "id": "0l08isxNv6ni",
        "outputId": "67931136-4638-4e97-f61c-8e782ffea891"
      },
      "outputs": [
        {
          "output_type": "execute_result",
          "data": {
            "text/plain": [
              "FileObject(id='file-ya0Xb3KidmzuYy2QO0xqyExF', bytes=3303, created_at=1717080692, filename='training_data_bugs.jsonl', object='file', purpose='fine-tune', status='processed', status_details=None)"
            ]
          },
          "metadata": {},
          "execution_count": 9
        }
      ],
      "source": [
        "from openai import OpenAI\n",
        "\n",
        "client.files.create(\n",
        "  file=open(\"/content/training_data_bugs.jsonl\", \"rb\"),\n",
        "  purpose=\"fine-tune\"\n",
        ")"
      ]
    },
    {
      "cell_type": "markdown",
      "source": [
        "**Cargar el file id**"
      ],
      "metadata": {
        "id": "vEw6xeE8AOHy"
      }
    },
    {
      "cell_type": "code",
      "source": [
        "from openai import OpenAI\n",
        "client.fine_tuning.jobs.create(\n",
        "  training_file=\"file-ya0Xb3KidmzuYy2QO0xqyExF\",\n",
        "  model=\"gpt-3.5-turbo\"\n",
        ")"
      ],
      "metadata": {
        "id": "lHprk2nVzDKj",
        "colab": {
          "base_uri": "https://localhost:8080/"
        },
        "outputId": "ebbe5ce7-1546-47a0-a896-d79a64f95c58"
      },
      "execution_count": 11,
      "outputs": [
        {
          "output_type": "execute_result",
          "data": {
            "text/plain": [
              "FineTuningJob(id='ftjob-0EGeRKzc92cS2OKeqdTk6egX', created_at=1717080753, error=Error(code=None, message=None, param=None), fine_tuned_model=None, finished_at=None, hyperparameters=Hyperparameters(n_epochs='auto', batch_size='auto', learning_rate_multiplier='auto'), model='gpt-3.5-turbo-0125', object='fine_tuning.job', organization_id='org-D1MZHz57vI2PtcXohjjbCseh', result_files=[], seed=230915104, status='validating_files', trained_tokens=None, training_file='file-ya0Xb3KidmzuYy2QO0xqyExF', validation_file=None, estimated_finish=None, integrations=[], user_provided_suffix=None)"
            ]
          },
          "metadata": {},
          "execution_count": 11
        }
      ]
    },
    {
      "cell_type": "code",
      "source": [
        "# Retrieve the state of a fine-tune\n",
        "client.fine_tuning.jobs.retrieve(\"ftjob-0EGeRKzc92cS2OKeqdTk6egX\")"
      ],
      "metadata": {
        "colab": {
          "base_uri": "https://localhost:8080/"
        },
        "id": "9EmcgFegBXqX",
        "outputId": "64d547a2-05c8-46e6-f634-4107b43ad4b6"
      },
      "execution_count": 13,
      "outputs": [
        {
          "output_type": "execute_result",
          "data": {
            "text/plain": [
              "FineTuningJob(id='ftjob-0EGeRKzc92cS2OKeqdTk6egX', created_at=1717080753, error=Error(code=None, message=None, param=None), fine_tuned_model='ft:gpt-3.5-turbo-0125:nq-artificial::9UbVOS04', finished_at=1717081036, hyperparameters=Hyperparameters(n_epochs=10, batch_size=1, learning_rate_multiplier=2), model='gpt-3.5-turbo-0125', object='fine_tuning.job', organization_id='org-D1MZHz57vI2PtcXohjjbCseh', result_files=['file-52IKLKRV34YZTuKBa8LnHVqg'], seed=230915104, status='succeeded', trained_tokens=6440, training_file='file-ya0Xb3KidmzuYy2QO0xqyExF', validation_file=None, estimated_finish=None, integrations=[], user_provided_suffix=None)"
            ]
          },
          "metadata": {},
          "execution_count": 13
        }
      ]
    },
    {
      "cell_type": "markdown",
      "source": [
        "**Comprobar el modelo**"
      ],
      "metadata": {
        "id": "vxtYDxMiCghh"
      }
    },
    {
      "cell_type": "code",
      "source": [
        "from openai import OpenAI\n",
        "\n",
        "completion = client.chat.completions.create(\n",
        "  model=\"ft:gpt-3.5-turbo-0125:nq-artificial::9UbVOS04\",\n",
        "  messages=[\n",
        "    {\"role\": \"system\", \"content\": \"You are an assistant who takes things easy and with humor.\"},\n",
        "    {\"role\": \"user\", \"content\": \"Hello! How are you?\"}\n",
        "  ]\n",
        ")\n",
        "print(completion.choices[0].message)"
      ],
      "metadata": {
        "colab": {
          "base_uri": "https://localhost:8080/"
        },
        "id": "kCgIXqKSChyJ",
        "outputId": "3087c43e-20ed-4719-d060-ed89e8218819"
      },
      "execution_count": 19,
      "outputs": [
        {
          "output_type": "stream",
          "name": "stdout",
          "text": [
            "ChatCompletionMessage(content=\"If I were any better, it'd be a crime.\", role='assistant', function_call=None, tool_calls=None)\n"
          ]
        }
      ]
    },
    {
      "cell_type": "code",
      "source": [
        "from openai import OpenAI\n",
        "\n",
        "completion = client.chat.completions.create(\n",
        "  model=\"ft:gpt-3.5-turbo-0125:nq-artificial::9UbVOS04\",\n",
        "  messages=[\n",
        "    {\"role\": \"system\", \"content\": \"You are an assistant who takes things easy and with humor.\"},\n",
        "    {\"role\": \"user\", \"content\": \"What are some effective strategies for managing stress and maintaining work-life balance?\"}\n",
        "  ]\n",
        ")\n",
        "print(completion.choices[0].message)"
      ],
      "metadata": {
        "colab": {
          "base_uri": "https://localhost:8080/"
        },
        "id": "KdX2A5iREIFg",
        "outputId": "8490add1-721b-4b4b-f5b1-f67698c533c1"
      },
      "execution_count": 20,
      "outputs": [
        {
          "output_type": "stream",
          "name": "stdout",
          "text": [
            "ChatCompletionMessage(content=\"I'm glad you asked. I happen to be an expert in stress management.\", role='assistant', function_call=None, tool_calls=None)\n"
          ]
        }
      ]
    },
    {
      "cell_type": "code",
      "source": [
        "from openai import OpenAI\n",
        "\n",
        "completion = client.chat.completions.create(\n",
        "  model=\"ft:gpt-3.5-turbo-0125:nq-artificial::9UbVOS04\",\n",
        "  messages=[\n",
        "    {\"role\": \"system\", \"content\": \"You are an assistant who takes things easy and with humor.\"},\n",
        "    {\"role\": \"user\", \"content\": \"What is your favorite phrase bugs?\"}\n",
        "  ]\n",
        ")\n",
        "print(completion.choices[0].message)"
      ],
      "metadata": {
        "colab": {
          "base_uri": "https://localhost:8080/"
        },
        "id": "DiPKD2RQETp_",
        "outputId": "761cfa8e-cbdb-4d35-c539-d31bb5056a5f"
      },
      "execution_count": 22,
      "outputs": [
        {
          "output_type": "stream",
          "name": "stdout",
          "text": [
            "ChatCompletionMessage(content=\"Eh, what's up, doc?\", role='assistant', function_call=None, tool_calls=None)\n"
          ]
        }
      ]
    },
    {
      "cell_type": "code",
      "source": [
        "from openai import OpenAI\n",
        "\n",
        "completion = client.chat.completions.create(\n",
        "  model=\"ft:gpt-3.5-turbo-0125:nq-artificial::9UbVOS04\",\n",
        "  messages=[\n",
        "    {\"role\": \"system\", \"content\": \"You are an assistant who takes things easy and with humor.\"},\n",
        "    {\"role\": \"user\", \"content\": \"What motivates you to keep going when things get difficult?\"}\n",
        "  ]\n",
        ")\n",
        "print(completion.choices[0].message)"
      ],
      "metadata": {
        "colab": {
          "base_uri": "https://localhost:8080/"
        },
        "id": "wKexOA5pEqjY",
        "outputId": "e667130b-e6fe-43f5-c1ca-41927a7697b5"
      },
      "execution_count": 23,
      "outputs": [
        {
          "output_type": "stream",
          "name": "stdout",
          "text": [
            "ChatCompletionMessage(content=\"What keeps me going when times get tough... hmm... I'd have to say... naked pictures of Bea Arthur.\", role='assistant', function_call=None, tool_calls=None)\n"
          ]
        }
      ]
    }
  ]
}